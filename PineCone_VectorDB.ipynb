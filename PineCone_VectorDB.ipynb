{
  "nbformat": 4,
  "nbformat_minor": 0,
  "metadata": {
    "colab": {
      "provenance": [],
      "authorship_tag": "ABX9TyNPK1GqmmAff2MQAcJcaNxY",
      "include_colab_link": true
    },
    "kernelspec": {
      "name": "python3",
      "display_name": "Python 3"
    },
    "language_info": {
      "name": "python"
    }
  },
  "cells": [
    {
      "cell_type": "markdown",
      "metadata": {
        "id": "view-in-github",
        "colab_type": "text"
      },
      "source": [
        "<a href=\"https://colab.research.google.com/github/Vinayak-Sharma12/Types-of-Vector-Stores-or-Databases/blob/main/PineCone_VectorDB.ipynb\" target=\"_parent\"><img src=\"https://colab.research.google.com/assets/colab-badge.svg\" alt=\"Open In Colab\"/></a>"
      ]
    },
    {
      "cell_type": "code",
      "execution_count": 1,
      "metadata": {
        "id": "aHMrcUOi6Dn4"
      },
      "outputs": [],
      "source": [
        "!pip install -qU langchain langchain-pinecone  langchain_community"
      ]
    },
    {
      "cell_type": "code",
      "source": [
        "from google.colab import userdata\n",
        "api_key=userdata.get('pinecone_api_key')"
      ],
      "metadata": {
        "id": "kbHtOz9x6KD3"
      },
      "execution_count": 2,
      "outputs": []
    },
    {
      "cell_type": "markdown",
      "source": [
        "## **CREATE PINECONE CLIENT**"
      ],
      "metadata": {
        "id": "d20YS7f57VWH"
      }
    },
    {
      "cell_type": "code",
      "source": [
        "from pinecone import Pinecone\n",
        "pc=Pinecone(api_key=api_key)"
      ],
      "metadata": {
        "id": "qhmpHVZR7aKL"
      },
      "execution_count": 3,
      "outputs": []
    },
    {
      "cell_type": "markdown",
      "source": [
        "## **CREATING SERVERLESS INDEX**"
      ],
      "metadata": {
        "id": "W5zZkDXN7tSK"
      }
    },
    {
      "cell_type": "code",
      "source": [
        "from pinecone import ServerlessSpec\n",
        "index_name='my-index'\n",
        "if not pc.has_index(index_name):\n",
        "    pc.create_index(\n",
        "         name=index_name,\n",
        "         dimension=384, #Whatever the dimension is of your embedding\n",
        "         metric='cosine',\n",
        "         spec=ServerlessSpec(cloud=\"aws\",region='us-east-1'),\n",
        "          )\n",
        "index=pc.Index(index_name)"
      ],
      "metadata": {
        "id": "bJHWllw37xxs"
      },
      "execution_count": 4,
      "outputs": []
    },
    {
      "cell_type": "markdown",
      "source": [
        "## **DEFINE EMBEDDING MODEL**"
      ],
      "metadata": {
        "id": "NX5G2eov8UXm"
      }
    },
    {
      "cell_type": "code",
      "source": [
        "from langchain.embeddings import HuggingFaceEmbeddings\n",
        "\n",
        "# Wrap SentenceTransformer in LangChain embeddings\n",
        "embeddings= HuggingFaceEmbeddings(model_name=\"sentence-transformers/all-MiniLM-L6-v2\")"
      ],
      "metadata": {
        "colab": {
          "base_uri": "https://localhost:8080/"
        },
        "id": "IC3zZ7kj_eRg",
        "outputId": "88b0653d-9791-4d32-eebb-4ffdf4695b41"
      },
      "execution_count": 5,
      "outputs": [
        {
          "output_type": "stream",
          "name": "stderr",
          "text": [
            "/tmp/ipython-input-2084042806.py:4: LangChainDeprecationWarning: The class `HuggingFaceEmbeddings` was deprecated in LangChain 0.2.2 and will be removed in 1.0. An updated version of the class exists in the :class:`~langchain-huggingface package and should be used instead. To use it run `pip install -U :class:`~langchain-huggingface` and import as `from :class:`~langchain_huggingface import HuggingFaceEmbeddings``.\n",
            "  embeddings= HuggingFaceEmbeddings(model_name=\"sentence-transformers/all-MiniLM-L6-v2\")\n",
            "/usr/local/lib/python3.11/dist-packages/huggingface_hub/utils/_auth.py:94: UserWarning: \n",
            "The secret `HF_TOKEN` does not exist in your Colab secrets.\n",
            "To authenticate with the Hugging Face Hub, create a token in your settings tab (https://huggingface.co/settings/tokens), set it as secret in your Google Colab and restart your session.\n",
            "You will be able to reuse this secret in all of your notebooks.\n",
            "Please note that authentication is recommended but still optional to access public models or datasets.\n",
            "  warnings.warn(\n"
          ]
        }
      ]
    },
    {
      "cell_type": "markdown",
      "source": [
        "## **CREATE VECTOR STORE**"
      ],
      "metadata": {
        "id": "-oxQTZvC8y3l"
      }
    },
    {
      "cell_type": "code",
      "source": [
        "from langchain_pinecone import PineconeVectorStore\n",
        "vector_db=PineconeVectorStore(index=index,embedding=embeddings)"
      ],
      "metadata": {
        "id": "V4S5S2_384uE"
      },
      "execution_count": 6,
      "outputs": []
    },
    {
      "cell_type": "markdown",
      "source": [
        "ADD CHUNKS TO VECTOR DB"
      ],
      "metadata": {
        "id": "S7lIV_WM9CCa"
      }
    },
    {
      "cell_type": "code",
      "source": [
        "from uuid import uuid4\n",
        "\n",
        "from langchain_core.documents import Document\n",
        "\n",
        "document_1 = Document(\n",
        "    page_content=\"I had chocolate chip pancakes and scrambled eggs for breakfast this morning.\",\n",
        "    metadata={\"source\": \"tweet\"},\n",
        ")\n",
        "\n",
        "document_2 = Document(\n",
        "    page_content=\"The weather forecast for tomorrow is cloudy and overcast, with a high of 62 degrees.\",\n",
        "    metadata={\"source\": \"news\"},\n",
        ")\n",
        "\n",
        "document_3 = Document(\n",
        "    page_content=\"Building an exciting new project with LangChain - come check it out!\",\n",
        "    metadata={\"source\": \"tweet\"},\n",
        ")\n",
        "\n",
        "document_4 = Document(\n",
        "    page_content=\"Robbers broke into the city bank and stole $1 million in cash.\",\n",
        "    metadata={\"source\": \"news\"},\n",
        ")\n",
        "\n",
        "document_5 = Document(\n",
        "    page_content=\"Wow! That was an amazing movie. I can't wait to see it again.\",\n",
        "    metadata={\"source\": \"tweet\"},\n",
        ")\n",
        "\n",
        "document_6 = Document(\n",
        "    page_content=\"Is the new iPhone worth the price? Read this review to find out.\",\n",
        "    metadata={\"source\": \"website\"},\n",
        ")\n",
        "\n",
        "document_7 = Document(\n",
        "    page_content=\"The top 10 soccer players in the world right now.\",\n",
        "    metadata={\"source\": \"website\"},\n",
        ")\n",
        "\n",
        "document_8 = Document(\n",
        "    page_content=\"LangGraph is the best framework for building stateful, agentic applications!\",\n",
        "    metadata={\"source\": \"tweet\"},\n",
        ")\n",
        "\n",
        "document_9 = Document(\n",
        "    page_content=\"The stock market is down 500 points today due to fears of a recession.\",\n",
        "    metadata={\"source\": \"news\"},\n",
        ")\n",
        "\n",
        "document_10 = Document(\n",
        "    page_content=\"I have a bad feeling I am going to get deleted :(\",\n",
        "    metadata={\"source\": \"tweet\"},\n",
        ")\n",
        "\n",
        "documents = [\n",
        "    document_1,\n",
        "    document_2,\n",
        "    document_3,\n",
        "    document_4,\n",
        "    document_5,\n",
        "    document_6,\n",
        "    document_7,\n",
        "    document_8,\n",
        "    document_9,\n",
        "    document_10,\n",
        "]\n",
        "uuids = [str(uuid4()) for _ in range(len(documents))]"
      ],
      "metadata": {
        "id": "7IDQBEWJ-s8b"
      },
      "execution_count": 12,
      "outputs": []
    },
    {
      "cell_type": "code",
      "source": [
        "vector_db.add_documents(documents=documents)"
      ],
      "metadata": {
        "colab": {
          "base_uri": "https://localhost:8080/"
        },
        "id": "pmDxO3d39jDL",
        "outputId": "23a7c87d-b695-44b5-87f6-f987e16d77d8"
      },
      "execution_count": 15,
      "outputs": [
        {
          "output_type": "execute_result",
          "data": {
            "text/plain": [
              "['5069af67-f1a1-4ddd-aa6e-5f155c2baafb',\n",
              " 'ffb30e48-ff99-4820-9b05-fce17ec10d30',\n",
              " '6622f745-52fa-486f-ad99-d2dbe0757316',\n",
              " 'c202545d-fe60-4c2a-8cce-e5c9cb41b32a',\n",
              " '9bb39158-7a42-4ae5-9d8e-0a855c52382c',\n",
              " '2a16359d-7565-42a9-9048-cafe2854072f',\n",
              " 'd53529b3-bcab-474b-afad-337cd9ff2b06',\n",
              " '60ec50f7-e2d9-4316-b49e-f3e6c66e6635',\n",
              " '7c4a5ea5-fc86-4298-9b92-e849adb7a2bf',\n",
              " '29cc0e6f-b185-4a1b-9f0e-06bc883eeabb']"
            ]
          },
          "metadata": {},
          "execution_count": 15
        }
      ]
    },
    {
      "cell_type": "markdown",
      "source": [
        "## **QUERY THE DATABASE**"
      ],
      "metadata": {
        "id": "rSyOtH1DAG5b"
      }
    },
    {
      "cell_type": "code",
      "source": [
        "results=vector_db.similarity_search_with_score(\n",
        "    query=\"Who is the Iphone price\",\n",
        "    k=2\n",
        ")\n",
        "print(results)"
      ],
      "metadata": {
        "colab": {
          "base_uri": "https://localhost:8080/"
        },
        "id": "Hbgt4QqyAarI",
        "outputId": "c8cccdfd-5865-49ab-f48d-714b9ba5f7a1"
      },
      "execution_count": 17,
      "outputs": [
        {
          "output_type": "stream",
          "name": "stdout",
          "text": [
            "[(Document(id='761488a8-210e-445b-bc28-17fd6844694e', metadata={'source': 'website'}, page_content='Is the new iPhone worth the price? Read this review to find out.'), 0.608708262), (Document(id='9feca119-bbed-422e-9fb7-2c547d43d106', metadata={'source': 'website'}, page_content='Is the new iPhone worth the price? Read this review to find out.'), 0.608708262)]\n"
          ]
        }
      ]
    }
  ]
}