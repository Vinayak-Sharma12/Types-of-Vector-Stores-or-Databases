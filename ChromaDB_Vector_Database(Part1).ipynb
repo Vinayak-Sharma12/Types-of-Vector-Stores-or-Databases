{
  "nbformat": 4,
  "nbformat_minor": 0,
  "metadata": {
    "colab": {
      "provenance": [],
      "authorship_tag": "ABX9TyMpt5YS+zp5P6pVv4NEJrzj",
      "include_colab_link": true
    },
    "kernelspec": {
      "name": "python3",
      "display_name": "Python 3"
    },
    "language_info": {
      "name": "python"
    }
  },
  "cells": [
    {
      "cell_type": "markdown",
      "metadata": {
        "id": "view-in-github",
        "colab_type": "text"
      },
      "source": [
        "<a href=\"https://colab.research.google.com/github/Vinayak-Sharma12/Types-of-Vector-Stores-or-Databases/blob/main/ChromaDB_Vector_Database(Part1).ipynb\" target=\"_parent\"><img src=\"https://colab.research.google.com/assets/colab-badge.svg\" alt=\"Open In Colab\"/></a>"
      ]
    },
    {
      "cell_type": "code",
      "source": [
        "!pip install -q chromadb sentence-transformers langchain langchain_core"
      ],
      "metadata": {
        "id": "sykr5qxHfnCf"
      },
      "execution_count": 1,
      "outputs": []
    },
    {
      "cell_type": "markdown",
      "source": [
        "## **LOAD TEXT FROM .TXT FILE**"
      ],
      "metadata": {
        "id": "RQZ3fP5df2cr"
      }
    },
    {
      "cell_type": "code",
      "metadata": {
        "colab": {
          "base_uri": "https://localhost:8080/"
        },
        "id": "31631721",
        "outputId": "19acf60b-e942-432e-e3ae-072d62f0a7ec"
      },
      "source": [
        "# Replace 'your_text_file.txt' with the actual path to your file\n",
        "file_path = '/content/sample_rag_10_pages.txt'\n",
        "\n",
        "try:\n",
        "    with open(file_path, 'r') as file:\n",
        "        text = file.read()\n",
        "        print(\"File content:\")\n",
        "        print(text)\n",
        "except FileNotFoundError:\n",
        "    print(f\"Error: The file '{file_path}' was not found.\")\n",
        "except Exception as e:\n",
        "    print(f\"An error occurred: {e}\")"
      ],
      "execution_count": 2,
      "outputs": [
        {
          "output_type": "stream",
          "name": "stdout",
          "text": [
            "File content:\n",
            "The History of Artificial Intelligence\n",
            "Artificial Intelligence (AI) is a branch of computer science focused on creating machines capable of performing tasks that typically require human intelligence. \n",
            "The concept dates back to the mid-20th century, when pioneers such as Alan Turing explored whether machines could \"think.\" \n",
            "In 1956, the Dartmouth Conference marked the official birth of AI as a field. Over the decades, AI research has gone through cycles of optimism, funding booms, and periods known as \"AI winters\" where interest waned due to limited progress. \n",
            "Key milestones include the development of expert systems in the 1970s, the rise of machine learning in the 1990s, and the explosion of deep learning in the 2010s. Today, AI is applied in natural language processing, computer vision, robotics, and decision-making systems across industries.\n",
            "\n",
            "The Great Wall of China\n",
            "The Great Wall of China is one of the most remarkable architectural achievements in history. \n",
            "Construction began as early as the 7th century BCE, but most of the existing wall was built during the Ming Dynasty (1368–1644). \n",
            "Stretching over 21,000 kilometers, the wall was designed to protect Chinese states and empires from invasions by nomadic tribes from the north. \n",
            "It is not a single continuous wall but rather a series of walls and fortifications connected over centuries. \n",
            "Today, the Great Wall is a UNESCO World Heritage Site and a popular tourist attraction, symbolizing China's historical strength and perseverance.\n",
            "\n",
            "Renewable Energy Technologies\n",
            "Renewable energy refers to power generated from natural sources that are replenished constantly, such as sunlight, wind, and water flow. \n",
            "Solar power has advanced significantly with the introduction of photovoltaic cells and concentrated solar power plants. \n",
            "Wind energy is harnessed through turbines, both onshore and offshore. Hydropower, one of the oldest renewable sources, generates electricity from flowing water via dams and run-of-the-river systems. \n",
            "Emerging technologies include tidal power, geothermal energy, and biomass energy production. \n",
            "The shift toward renewable energy is driven by the urgent need to reduce greenhouse gas emissions, combat climate change, and ensure sustainable energy access for future generations.\n",
            "\n",
            "The Apollo 11 Moon Landing\n",
            "On July 20, 1969, Apollo 11 became the first manned mission to land on the Moon. \n",
            "Commanded by Neil Armstrong, with Buzz Aldrin as Lunar Module Pilot and Michael Collins as Command Module Pilot, the mission was a milestone in the space race between the United States and the Soviet Union. \n",
            "Armstrong's first steps on the lunar surface were broadcast live to millions, accompanied by his famous words: 'That's one small step for man, one giant leap for mankind.' \n",
            "The astronauts conducted experiments, collected rock samples, and placed the American flag on the Moon before returning safely to Earth. \n",
            "Apollo 11 remains a defining moment in human exploration and technological achievement.\n",
            "\n",
            "The Amazon Rainforest\n",
            "The Amazon Rainforest spans over 5.5 million square kilometers, covering much of Brazil and extending into Peru, Colombia, and several other South American countries. \n",
            "It is home to an estimated 390 billion individual trees and over 16,000 species. Often referred to as the 'lungs of the Earth,' the Amazon produces a significant portion of the world's oxygen and plays a critical role in regulating the global climate. \n",
            "Deforestation, driven by logging, agriculture, and infrastructure development, poses a major threat to its biodiversity. \n",
            "Conservation efforts focus on sustainable resource management, protection of indigenous lands, and international cooperation to curb environmental degradation.\n",
            "\n",
            "Cybersecurity and Data Privacy\n",
            "In the digital age, cybersecurity is essential for protecting systems, networks, and data from malicious attacks. \n",
            "Cyber threats include viruses, ransomware, phishing attacks, and state-sponsored hacking campaigns. \n",
            "Data privacy has become a pressing concern, especially with the rise of big data analytics and cloud computing. \n",
            "Regulations such as the European Union's General Data Protection Regulation (GDPR) and the California Consumer Privacy Act (CCPA) aim to give individuals greater control over their personal information. \n",
            "Organizations worldwide are investing in advanced encryption, intrusion detection systems, and AI-powered threat analysis to strengthen security measures.\n",
            "\n",
            "Climate Change and Its Global Impact\n",
            "Climate change refers to long-term shifts in temperatures and weather patterns, primarily caused by human activities such as burning fossil fuels. \n",
            "The resulting greenhouse gas emissions trap heat in the atmosphere, leading to rising global temperatures. \n",
            "Consequences include melting polar ice caps, rising sea levels, more frequent extreme weather events, and disruptions to ecosystems. \n",
            "Efforts to combat climate change include international agreements like the Paris Agreement, renewable energy adoption, reforestation projects, and innovations in carbon capture and storage technologies. \n",
            "Scientists emphasize the urgency of reducing emissions to avoid irreversible damage to the planet.\n",
            "\n",
            "The Internet of Things (IoT)\n",
            "The Internet of Things refers to the network of interconnected devices that collect and share data over the Internet. \n",
            "These devices range from smart home appliances and wearable health trackers to industrial sensors and autonomous vehicles. \n",
            "IoT applications span multiple sectors, including healthcare, transportation, agriculture, and manufacturing. \n",
            "Security remains a significant challenge, as billions of connected devices increase potential attack surfaces. \n",
            "Future trends include the integration of AI for predictive analytics, edge computing for faster processing, and expanded use in smart cities to optimize resource management.\n",
            "\n",
            "History of the Printing Press\n",
            "The printing press, invented by Johannes Gutenberg in the mid-15th century, revolutionized the way information was disseminated. \n",
            "Before its invention, books were copied by hand, a labor-intensive process that made them rare and expensive. \n",
            "Gutenberg's movable type press enabled mass production of books, drastically reducing costs and making literature accessible to a wider audience. \n",
            "This innovation played a crucial role in the spread of the Renaissance, the Reformation, and the Scientific Revolution, shaping the course of modern history.\n",
            "\n",
            "Basics of Quantum Computing\n",
            "Quantum computing is an emerging field of computing based on the principles of quantum mechanics. \n",
            "Unlike classical computers, which use bits that are either 0 or 1, quantum computers use quantum bits, or qubits, which can exist in multiple states simultaneously thanks to superposition. \n",
            "They can also be entangled, meaning the state of one qubit can depend on another, even across long distances. \n",
            "Quantum computers have the potential to solve certain problems exponentially faster than classical computers, with applications in cryptography, materials science, and optimization problems.\n",
            "\n",
            "History of the Silk Road\n",
            "The Silk Road was an ancient network of trade routes connecting the East and West. \n",
            "Spanning over 6,000 kilometers, it facilitated the exchange of goods, cultures, and ideas between civilizations such as China, India, Persia, Arabia, and Rome. \n",
            "Silk was one of the most valuable commodities traded, but the routes also carried spices, precious metals, art, and even technologies like papermaking. \n",
            "The Silk Road contributed significantly to the development of the civilizations it connected, leaving a lasting legacy on global history.\n",
            "\n",
            "Human Genome Project\n",
            "The Human Genome Project (HGP) was an international scientific effort to map and understand all the genes of the human species. \n",
            "Launched in 1990 and completed in 2003, it provided a complete sequence of the human genome's 3 billion DNA base pairs. \n",
            "The project has had profound implications for medicine, enabling advancements in genetic testing, personalized medicine, and the understanding of genetic diseases. \n",
            "It was one of the largest collaborative scientific endeavors ever undertaken, involving researchers from around the world.\n",
            "\n",
            "History of the Internet\n",
            "The origins of the Internet can be traced back to the 1960s with the creation of ARPANET, a network funded by the U.S. Department of Defense. \n",
            "Initially designed to allow researchers to share data across multiple computers, ARPANET introduced packet switching, a fundamental technology for modern networking. \n",
            "The development of TCP/IP protocols in the 1970s enabled interoperability between networks, laying the foundation for the global Internet. \n",
            "The invention of the World Wide Web by Tim Berners-Lee in 1989 transformed the Internet into a user-friendly platform, sparking the digital revolution.\n",
            "\n",
            "History of Photography\n",
            "Photography, the art and science of capturing images using light, has evolved dramatically since its inception in the early 19th century. \n",
            "The first permanent photograph, created by Joseph Nicéphore Niépce in 1826, required an eight-hour exposure time. \n",
            "Advancements by pioneers like Louis Daguerre and George Eastman made photography more practical and accessible. \n",
            "Today, digital photography and smartphone cameras have made image capturing a part of everyday life, while advances in computational photography push creative boundaries.\n",
            "\n",
            "Basics of Blockchain Technology\n",
            "Blockchain is a distributed ledger technology that allows data to be stored across a network of computers in a secure, transparent, and immutable manner. \n",
            "It underpins cryptocurrencies like Bitcoin and Ethereum, but its applications extend to supply chain management, voting systems, and identity verification. \n",
            "Each block in a blockchain contains a list of transactions, a timestamp, and a cryptographic hash of the previous block, ensuring the chain’s integrity. \n",
            "The decentralized nature of blockchain reduces the need for intermediaries and increases trust between parties.\n",
            "\n",
            "History of Aviation\n",
            "The history of aviation dates back to ancient myths of human flight, but practical aviation began with hot air balloons in the 18th century. \n",
            "The Wright brothers, Orville and Wilbur, achieved the first powered, controlled flight in 1903. \n",
            "Aviation rapidly advanced during the two World Wars, leading to innovations in aircraft design, speed, and safety. \n",
            "Today, aviation is a cornerstone of global transportation, enabling international trade and cultural exchange while facing challenges such as environmental sustainability.\n",
            "\n",
            "Marine Ecosystems\n",
            "Marine ecosystems cover more than 70% of the Earth's surface and include oceans, coral reefs, and estuaries. \n",
            "They play a vital role in regulating the planet's climate, producing oxygen, and supporting biodiversity. \n",
            "Coral reefs, often called the \"rainforests of the sea,\" are home to thousands of species but are under threat from climate change, pollution, and overfishing. \n",
            "Conservation efforts include marine protected areas, sustainable fishing practices, and international agreements to reduce carbon emissions.\n",
            "\n",
            "History of the Olympic Games\n",
            "The Olympic Games originated in ancient Greece around 776 BCE as a festival honoring Zeus. \n",
            "The modern Olympic Games were revived in 1896 by Pierre de Coubertin, featuring athletes from multiple nations competing in various sports. \n",
            "The Games have evolved into a global event held every four years, with both Summer and Winter editions. \n",
            "They serve not only as a platform for athletic excellence but also as a symbol of international unity and cultural exchange.\n"
          ]
        }
      ]
    },
    {
      "cell_type": "markdown",
      "source": [
        "## **SPLITTING THE TEXT**"
      ],
      "metadata": {
        "id": "r3xzoZg0g7L2"
      }
    },
    {
      "cell_type": "code",
      "source": [
        "from langchain.text_splitter import RecursiveCharacterTextSplitter\n",
        "splitter=RecursiveCharacterTextSplitter()\n",
        "chunks=splitter.split_text(text)"
      ],
      "metadata": {
        "id": "tvf-zq1Ig_Fn"
      },
      "execution_count": 3,
      "outputs": []
    },
    {
      "cell_type": "code",
      "source": [
        "len(chunks)\n",
        "print(chunks)"
      ],
      "metadata": {
        "colab": {
          "base_uri": "https://localhost:8080/"
        },
        "id": "Tb1sxGxyhT9k",
        "outputId": "82ded707-458a-4cd2-a1b4-f5e708cd086f"
      },
      "execution_count": 4,
      "outputs": [
        {
          "output_type": "stream",
          "name": "stdout",
          "text": [
            "['The History of Artificial Intelligence\\nArtificial Intelligence (AI) is a branch of computer science focused on creating machines capable of performing tasks that typically require human intelligence. \\nThe concept dates back to the mid-20th century, when pioneers such as Alan Turing explored whether machines could \"think.\" \\nIn 1956, the Dartmouth Conference marked the official birth of AI as a field. Over the decades, AI research has gone through cycles of optimism, funding booms, and periods known as \"AI winters\" where interest waned due to limited progress. \\nKey milestones include the development of expert systems in the 1970s, the rise of machine learning in the 1990s, and the explosion of deep learning in the 2010s. Today, AI is applied in natural language processing, computer vision, robotics, and decision-making systems across industries.\\n\\nThe Great Wall of China\\nThe Great Wall of China is one of the most remarkable architectural achievements in history. \\nConstruction began as early as the 7th century BCE, but most of the existing wall was built during the Ming Dynasty (1368–1644). \\nStretching over 21,000 kilometers, the wall was designed to protect Chinese states and empires from invasions by nomadic tribes from the north. \\nIt is not a single continuous wall but rather a series of walls and fortifications connected over centuries. \\nToday, the Great Wall is a UNESCO World Heritage Site and a popular tourist attraction, symbolizing China\\'s historical strength and perseverance.\\n\\nRenewable Energy Technologies\\nRenewable energy refers to power generated from natural sources that are replenished constantly, such as sunlight, wind, and water flow. \\nSolar power has advanced significantly with the introduction of photovoltaic cells and concentrated solar power plants. \\nWind energy is harnessed through turbines, both onshore and offshore. Hydropower, one of the oldest renewable sources, generates electricity from flowing water via dams and run-of-the-river systems. \\nEmerging technologies include tidal power, geothermal energy, and biomass energy production. \\nThe shift toward renewable energy is driven by the urgent need to reduce greenhouse gas emissions, combat climate change, and ensure sustainable energy access for future generations.\\n\\nThe Apollo 11 Moon Landing\\nOn July 20, 1969, Apollo 11 became the first manned mission to land on the Moon. \\nCommanded by Neil Armstrong, with Buzz Aldrin as Lunar Module Pilot and Michael Collins as Command Module Pilot, the mission was a milestone in the space race between the United States and the Soviet Union. \\nArmstrong\\'s first steps on the lunar surface were broadcast live to millions, accompanied by his famous words: \\'That\\'s one small step for man, one giant leap for mankind.\\' \\nThe astronauts conducted experiments, collected rock samples, and placed the American flag on the Moon before returning safely to Earth. \\nApollo 11 remains a defining moment in human exploration and technological achievement.\\n\\nThe Amazon Rainforest\\nThe Amazon Rainforest spans over 5.5 million square kilometers, covering much of Brazil and extending into Peru, Colombia, and several other South American countries. \\nIt is home to an estimated 390 billion individual trees and over 16,000 species. Often referred to as the \\'lungs of the Earth,\\' the Amazon produces a significant portion of the world\\'s oxygen and plays a critical role in regulating the global climate. \\nDeforestation, driven by logging, agriculture, and infrastructure development, poses a major threat to its biodiversity. \\nConservation efforts focus on sustainable resource management, protection of indigenous lands, and international cooperation to curb environmental degradation.', \"Cybersecurity and Data Privacy\\nIn the digital age, cybersecurity is essential for protecting systems, networks, and data from malicious attacks. \\nCyber threats include viruses, ransomware, phishing attacks, and state-sponsored hacking campaigns. \\nData privacy has become a pressing concern, especially with the rise of big data analytics and cloud computing. \\nRegulations such as the European Union's General Data Protection Regulation (GDPR) and the California Consumer Privacy Act (CCPA) aim to give individuals greater control over their personal information. \\nOrganizations worldwide are investing in advanced encryption, intrusion detection systems, and AI-powered threat analysis to strengthen security measures.\\n\\nClimate Change and Its Global Impact\\nClimate change refers to long-term shifts in temperatures and weather patterns, primarily caused by human activities such as burning fossil fuels. \\nThe resulting greenhouse gas emissions trap heat in the atmosphere, leading to rising global temperatures. \\nConsequences include melting polar ice caps, rising sea levels, more frequent extreme weather events, and disruptions to ecosystems. \\nEfforts to combat climate change include international agreements like the Paris Agreement, renewable energy adoption, reforestation projects, and innovations in carbon capture and storage technologies. \\nScientists emphasize the urgency of reducing emissions to avoid irreversible damage to the planet.\\n\\nThe Internet of Things (IoT)\\nThe Internet of Things refers to the network of interconnected devices that collect and share data over the Internet. \\nThese devices range from smart home appliances and wearable health trackers to industrial sensors and autonomous vehicles. \\nIoT applications span multiple sectors, including healthcare, transportation, agriculture, and manufacturing. \\nSecurity remains a significant challenge, as billions of connected devices increase potential attack surfaces. \\nFuture trends include the integration of AI for predictive analytics, edge computing for faster processing, and expanded use in smart cities to optimize resource management.\\n\\nHistory of the Printing Press\\nThe printing press, invented by Johannes Gutenberg in the mid-15th century, revolutionized the way information was disseminated. \\nBefore its invention, books were copied by hand, a labor-intensive process that made them rare and expensive. \\nGutenberg's movable type press enabled mass production of books, drastically reducing costs and making literature accessible to a wider audience. \\nThis innovation played a crucial role in the spread of the Renaissance, the Reformation, and the Scientific Revolution, shaping the course of modern history.\\n\\nBasics of Quantum Computing\\nQuantum computing is an emerging field of computing based on the principles of quantum mechanics. \\nUnlike classical computers, which use bits that are either 0 or 1, quantum computers use quantum bits, or qubits, which can exist in multiple states simultaneously thanks to superposition. \\nThey can also be entangled, meaning the state of one qubit can depend on another, even across long distances. \\nQuantum computers have the potential to solve certain problems exponentially faster than classical computers, with applications in cryptography, materials science, and optimization problems.\\n\\nHistory of the Silk Road\\nThe Silk Road was an ancient network of trade routes connecting the East and West. \\nSpanning over 6,000 kilometers, it facilitated the exchange of goods, cultures, and ideas between civilizations such as China, India, Persia, Arabia, and Rome. \\nSilk was one of the most valuable commodities traded, but the routes also carried spices, precious metals, art, and even technologies like papermaking. \\nThe Silk Road contributed significantly to the development of the civilizations it connected, leaving a lasting legacy on global history.\", 'Human Genome Project\\nThe Human Genome Project (HGP) was an international scientific effort to map and understand all the genes of the human species. \\nLaunched in 1990 and completed in 2003, it provided a complete sequence of the human genome\\'s 3 billion DNA base pairs. \\nThe project has had profound implications for medicine, enabling advancements in genetic testing, personalized medicine, and the understanding of genetic diseases. \\nIt was one of the largest collaborative scientific endeavors ever undertaken, involving researchers from around the world.\\n\\nHistory of the Internet\\nThe origins of the Internet can be traced back to the 1960s with the creation of ARPANET, a network funded by the U.S. Department of Defense. \\nInitially designed to allow researchers to share data across multiple computers, ARPANET introduced packet switching, a fundamental technology for modern networking. \\nThe development of TCP/IP protocols in the 1970s enabled interoperability between networks, laying the foundation for the global Internet. \\nThe invention of the World Wide Web by Tim Berners-Lee in 1989 transformed the Internet into a user-friendly platform, sparking the digital revolution.\\n\\nHistory of Photography\\nPhotography, the art and science of capturing images using light, has evolved dramatically since its inception in the early 19th century. \\nThe first permanent photograph, created by Joseph Nicéphore Niépce in 1826, required an eight-hour exposure time. \\nAdvancements by pioneers like Louis Daguerre and George Eastman made photography more practical and accessible. \\nToday, digital photography and smartphone cameras have made image capturing a part of everyday life, while advances in computational photography push creative boundaries.\\n\\nBasics of Blockchain Technology\\nBlockchain is a distributed ledger technology that allows data to be stored across a network of computers in a secure, transparent, and immutable manner. \\nIt underpins cryptocurrencies like Bitcoin and Ethereum, but its applications extend to supply chain management, voting systems, and identity verification. \\nEach block in a blockchain contains a list of transactions, a timestamp, and a cryptographic hash of the previous block, ensuring the chain’s integrity. \\nThe decentralized nature of blockchain reduces the need for intermediaries and increases trust between parties.\\n\\nHistory of Aviation\\nThe history of aviation dates back to ancient myths of human flight, but practical aviation began with hot air balloons in the 18th century. \\nThe Wright brothers, Orville and Wilbur, achieved the first powered, controlled flight in 1903. \\nAviation rapidly advanced during the two World Wars, leading to innovations in aircraft design, speed, and safety. \\nToday, aviation is a cornerstone of global transportation, enabling international trade and cultural exchange while facing challenges such as environmental sustainability.\\n\\nMarine Ecosystems\\nMarine ecosystems cover more than 70% of the Earth\\'s surface and include oceans, coral reefs, and estuaries. \\nThey play a vital role in regulating the planet\\'s climate, producing oxygen, and supporting biodiversity. \\nCoral reefs, often called the \"rainforests of the sea,\" are home to thousands of species but are under threat from climate change, pollution, and overfishing. \\nConservation efforts include marine protected areas, sustainable fishing practices, and international agreements to reduce carbon emissions.\\n\\nHistory of the Olympic Games\\nThe Olympic Games originated in ancient Greece around 776 BCE as a festival honoring Zeus. \\nThe modern Olympic Games were revived in 1896 by Pierre de Coubertin, featuring athletes from multiple nations competing in various sports. \\nThe Games have evolved into a global event held every four years, with both Summer and Winter editions. \\nThey serve not only as a platform for athletic excellence but also as a symbol of international unity and cultural exchange.']\n"
          ]
        }
      ]
    },
    {
      "cell_type": "markdown",
      "source": [
        "## **1.CREATING VECTOR STORE BY ADDING EMBEDDING MANUALLY**"
      ],
      "metadata": {
        "id": "m1ncVN6YiLge"
      }
    },
    {
      "cell_type": "markdown",
      "source": [
        "STEPS\n",
        "\n",
        "1.   Define Embedding model\n",
        "2.   Embed chunks\n",
        "3.   Create client\n",
        "4.   Create collection\n",
        "2.   Add documents,embedding and metadata in collection\n",
        "\n",
        "\n",
        "\n"
      ],
      "metadata": {
        "id": "27CEBBqwjBXM"
      }
    },
    {
      "cell_type": "code",
      "source": [
        "from sentence_transformers import SentenceTransformer\n",
        "embedding_model=SentenceTransformer('all-mpnet-base-v2')"
      ],
      "metadata": {
        "colab": {
          "base_uri": "https://localhost:8080/"
        },
        "collapsed": true,
        "id": "NBhYFKgViSlV",
        "outputId": "a66617d6-1c88-4b06-f0c0-1910e74201c4"
      },
      "execution_count": 5,
      "outputs": [
        {
          "output_type": "stream",
          "name": "stderr",
          "text": [
            "/usr/local/lib/python3.11/dist-packages/huggingface_hub/utils/_auth.py:94: UserWarning: \n",
            "The secret `HF_TOKEN` does not exist in your Colab secrets.\n",
            "To authenticate with the Hugging Face Hub, create a token in your settings tab (https://huggingface.co/settings/tokens), set it as secret in your Google Colab and restart your session.\n",
            "You will be able to reuse this secret in all of your notebooks.\n",
            "Please note that authentication is recommended but still optional to access public models or datasets.\n",
            "  warnings.warn(\n"
          ]
        }
      ]
    },
    {
      "cell_type": "code",
      "metadata": {
        "colab": {
          "base_uri": "https://localhost:8080/"
        },
        "id": "1caf75c2",
        "outputId": "6b5d14ee-1499-4841-bf1f-883c22ab19e7"
      },
      "source": [
        "embeddings = embedding_model.encode(chunks) # is array\n",
        "\n",
        "print(\"Shape of chunk embeddings:\", embeddings.shape)"
      ],
      "execution_count": 6,
      "outputs": [
        {
          "output_type": "stream",
          "name": "stdout",
          "text": [
            "Shape of chunk embeddings: (3, 768)\n"
          ]
        }
      ]
    },
    {
      "cell_type": "code",
      "source": [
        "import chromadb\n",
        "client=chromadb.Client()"
      ],
      "metadata": {
        "id": "F6mb0HZMkYmQ"
      },
      "execution_count": 7,
      "outputs": []
    },
    {
      "cell_type": "code",
      "source": [
        "collection=client.create_collection(name='my_collections')"
      ],
      "metadata": {
        "id": "yeknZLpGkmFj"
      },
      "execution_count": 8,
      "outputs": []
    },
    {
      "cell_type": "code",
      "source": [
        "collection.add(\n",
        "    ids=['id1','id2','id3'],\n",
        "    embeddings=embeddings,\n",
        "    documents=chunks\n",
        "    )"
      ],
      "metadata": {
        "id": "HLtVWrr3ktlO"
      },
      "execution_count": 9,
      "outputs": []
    },
    {
      "cell_type": "markdown",
      "source": [
        "## **2.CREATING VECTOR STORE USING embedding_function**"
      ],
      "metadata": {
        "id": "yZineJDRu3-D"
      }
    },
    {
      "cell_type": "markdown",
      "source": [
        "**STEPS**\n",
        "\n",
        "1. Define embedding model\n",
        "2. Create client\n",
        "3. Create collection and define embedding in it\n",
        "4. Add docs to the collection\n",
        "\n"
      ],
      "metadata": {
        "id": "Guoc0wU-vGcF"
      }
    },
    {
      "cell_type": "markdown",
      "source": [
        "Defined Embedding model"
      ],
      "metadata": {
        "id": "82VofuZBv0zy"
      }
    },
    {
      "cell_type": "code",
      "source": [
        "from sentence_transformers import SentenceTransformer\n",
        "from chromadb.utils import embedding_functions\n",
        "embedding_func=embedding_functions.SentenceTransformerEmbeddingFunction(model_name='all-mpnet-base-v2')"
      ],
      "metadata": {
        "id": "ZzTJCO4wvD8M"
      },
      "execution_count": 10,
      "outputs": []
    },
    {
      "cell_type": "code",
      "source": [
        "client=chromadb.Client()"
      ],
      "metadata": {
        "id": "v6suFJz6v0ID"
      },
      "execution_count": 11,
      "outputs": []
    },
    {
      "cell_type": "code",
      "source": [
        "new_collections=client.create_collection(name='auto_collection',embedding_function=embedding_func)"
      ],
      "metadata": {
        "id": "4hHWEICUv-Gj"
      },
      "execution_count": 12,
      "outputs": []
    },
    {
      "cell_type": "code",
      "source": [
        "new_collections.add(ids=['id1','id2','id3'],documents=chunks)"
      ],
      "metadata": {
        "id": "fKn8r8NuwWEM"
      },
      "execution_count": 13,
      "outputs": []
    },
    {
      "cell_type": "markdown",
      "metadata": {
        "id": "555d424a"
      },
      "source": [
        "## **QUERYING THE VECTOR STORE(MANUAL)**"
      ]
    },
    {
      "cell_type": "markdown",
      "source": [
        "*Embeddings in result is by default shown as None if you want that uncomment include line*"
      ],
      "metadata": {
        "id": "_YD3RtXuunDz"
      }
    },
    {
      "cell_type": "code",
      "metadata": {
        "colab": {
          "base_uri": "https://localhost:8080/"
        },
        "id": "61456937",
        "outputId": "853bde2a-fa39-43eb-efe0-7d3ed0785160"
      },
      "source": [
        "# Example query\n",
        "query = \"What is Artificial Intelligence?\"\n",
        "\n",
        "# Create embedding for the query\n",
        "query_embedding = embedding_model.encode(query).tolist()\n",
        "\n",
        "# Perform a similarity search and include embeddings in the results\n",
        "results = collection.query(\n",
        "    query_embeddings=[query_embedding],\n",
        "    n_results=1, # You can adjust the number of results\n",
        "    #include=['embeddings', 'documents', 'distances'] # Explicitly include embeddings\n",
        ")\n",
        "\n",
        "print(\"Query Results:\")\n",
        "print(results)"
      ],
      "execution_count": 14,
      "outputs": [
        {
          "output_type": "stream",
          "name": "stdout",
          "text": [
            "Query Results:\n",
            "{'ids': [['id1']], 'embeddings': None, 'documents': [['The History of Artificial Intelligence\\nArtificial Intelligence (AI) is a branch of computer science focused on creating machines capable of performing tasks that typically require human intelligence. \\nThe concept dates back to the mid-20th century, when pioneers such as Alan Turing explored whether machines could \"think.\" \\nIn 1956, the Dartmouth Conference marked the official birth of AI as a field. Over the decades, AI research has gone through cycles of optimism, funding booms, and periods known as \"AI winters\" where interest waned due to limited progress. \\nKey milestones include the development of expert systems in the 1970s, the rise of machine learning in the 1990s, and the explosion of deep learning in the 2010s. Today, AI is applied in natural language processing, computer vision, robotics, and decision-making systems across industries.\\n\\nThe Great Wall of China\\nThe Great Wall of China is one of the most remarkable architectural achievements in history. \\nConstruction began as early as the 7th century BCE, but most of the existing wall was built during the Ming Dynasty (1368–1644). \\nStretching over 21,000 kilometers, the wall was designed to protect Chinese states and empires from invasions by nomadic tribes from the north. \\nIt is not a single continuous wall but rather a series of walls and fortifications connected over centuries. \\nToday, the Great Wall is a UNESCO World Heritage Site and a popular tourist attraction, symbolizing China\\'s historical strength and perseverance.\\n\\nRenewable Energy Technologies\\nRenewable energy refers to power generated from natural sources that are replenished constantly, such as sunlight, wind, and water flow. \\nSolar power has advanced significantly with the introduction of photovoltaic cells and concentrated solar power plants. \\nWind energy is harnessed through turbines, both onshore and offshore. Hydropower, one of the oldest renewable sources, generates electricity from flowing water via dams and run-of-the-river systems. \\nEmerging technologies include tidal power, geothermal energy, and biomass energy production. \\nThe shift toward renewable energy is driven by the urgent need to reduce greenhouse gas emissions, combat climate change, and ensure sustainable energy access for future generations.\\n\\nThe Apollo 11 Moon Landing\\nOn July 20, 1969, Apollo 11 became the first manned mission to land on the Moon. \\nCommanded by Neil Armstrong, with Buzz Aldrin as Lunar Module Pilot and Michael Collins as Command Module Pilot, the mission was a milestone in the space race between the United States and the Soviet Union. \\nArmstrong\\'s first steps on the lunar surface were broadcast live to millions, accompanied by his famous words: \\'That\\'s one small step for man, one giant leap for mankind.\\' \\nThe astronauts conducted experiments, collected rock samples, and placed the American flag on the Moon before returning safely to Earth. \\nApollo 11 remains a defining moment in human exploration and technological achievement.\\n\\nThe Amazon Rainforest\\nThe Amazon Rainforest spans over 5.5 million square kilometers, covering much of Brazil and extending into Peru, Colombia, and several other South American countries. \\nIt is home to an estimated 390 billion individual trees and over 16,000 species. Often referred to as the \\'lungs of the Earth,\\' the Amazon produces a significant portion of the world\\'s oxygen and plays a critical role in regulating the global climate. \\nDeforestation, driven by logging, agriculture, and infrastructure development, poses a major threat to its biodiversity. \\nConservation efforts focus on sustainable resource management, protection of indigenous lands, and international cooperation to curb environmental degradation.']], 'uris': None, 'included': ['metadatas', 'documents', 'distances'], 'data': None, 'metadatas': [[None]], 'distances': [[1.213312029838562]]}\n"
          ]
        }
      ]
    },
    {
      "cell_type": "markdown",
      "source": [
        "## **QUERY THE VECTOR STORE(EMBEDDING_FUNCTION)**"
      ],
      "metadata": {
        "id": "RHVNG6XOw270"
      }
    },
    {
      "cell_type": "code",
      "source": [
        "# Example query\n",
        "query = \"What is Artificial Intelligence?\"\n",
        "\n",
        "# Create embedding for the query\n",
        "\n",
        "# Perform a similarity search and include embeddings in the results\n",
        "results = new_collections.query(\n",
        "    query_texts=[query],\n",
        "    n_results=1, # You can adjust the number of results\n",
        "    #include=['embeddings', 'documents', 'distances'] # Explicitly include embeddings\n",
        ")\n",
        "\n",
        "print(\"Query Results:\")\n",
        "print(results)"
      ],
      "metadata": {
        "colab": {
          "base_uri": "https://localhost:8080/"
        },
        "id": "jaabQUBkxK9x",
        "outputId": "4e87521a-398c-4c1f-a8ed-114b15d856c7"
      },
      "execution_count": 17,
      "outputs": [
        {
          "output_type": "stream",
          "name": "stdout",
          "text": [
            "Query Results:\n",
            "{'ids': [['id1']], 'embeddings': None, 'documents': [['The History of Artificial Intelligence\\nArtificial Intelligence (AI) is a branch of computer science focused on creating machines capable of performing tasks that typically require human intelligence. \\nThe concept dates back to the mid-20th century, when pioneers such as Alan Turing explored whether machines could \"think.\" \\nIn 1956, the Dartmouth Conference marked the official birth of AI as a field. Over the decades, AI research has gone through cycles of optimism, funding booms, and periods known as \"AI winters\" where interest waned due to limited progress. \\nKey milestones include the development of expert systems in the 1970s, the rise of machine learning in the 1990s, and the explosion of deep learning in the 2010s. Today, AI is applied in natural language processing, computer vision, robotics, and decision-making systems across industries.\\n\\nThe Great Wall of China\\nThe Great Wall of China is one of the most remarkable architectural achievements in history. \\nConstruction began as early as the 7th century BCE, but most of the existing wall was built during the Ming Dynasty (1368–1644). \\nStretching over 21,000 kilometers, the wall was designed to protect Chinese states and empires from invasions by nomadic tribes from the north. \\nIt is not a single continuous wall but rather a series of walls and fortifications connected over centuries. \\nToday, the Great Wall is a UNESCO World Heritage Site and a popular tourist attraction, symbolizing China\\'s historical strength and perseverance.\\n\\nRenewable Energy Technologies\\nRenewable energy refers to power generated from natural sources that are replenished constantly, such as sunlight, wind, and water flow. \\nSolar power has advanced significantly with the introduction of photovoltaic cells and concentrated solar power plants. \\nWind energy is harnessed through turbines, both onshore and offshore. Hydropower, one of the oldest renewable sources, generates electricity from flowing water via dams and run-of-the-river systems. \\nEmerging technologies include tidal power, geothermal energy, and biomass energy production. \\nThe shift toward renewable energy is driven by the urgent need to reduce greenhouse gas emissions, combat climate change, and ensure sustainable energy access for future generations.\\n\\nThe Apollo 11 Moon Landing\\nOn July 20, 1969, Apollo 11 became the first manned mission to land on the Moon. \\nCommanded by Neil Armstrong, with Buzz Aldrin as Lunar Module Pilot and Michael Collins as Command Module Pilot, the mission was a milestone in the space race between the United States and the Soviet Union. \\nArmstrong\\'s first steps on the lunar surface were broadcast live to millions, accompanied by his famous words: \\'That\\'s one small step for man, one giant leap for mankind.\\' \\nThe astronauts conducted experiments, collected rock samples, and placed the American flag on the Moon before returning safely to Earth. \\nApollo 11 remains a defining moment in human exploration and technological achievement.\\n\\nThe Amazon Rainforest\\nThe Amazon Rainforest spans over 5.5 million square kilometers, covering much of Brazil and extending into Peru, Colombia, and several other South American countries. \\nIt is home to an estimated 390 billion individual trees and over 16,000 species. Often referred to as the \\'lungs of the Earth,\\' the Amazon produces a significant portion of the world\\'s oxygen and plays a critical role in regulating the global climate. \\nDeforestation, driven by logging, agriculture, and infrastructure development, poses a major threat to its biodiversity. \\nConservation efforts focus on sustainable resource management, protection of indigenous lands, and international cooperation to curb environmental degradation.']], 'uris': None, 'included': ['metadatas', 'documents', 'distances'], 'data': None, 'metadatas': [[None]], 'distances': [[1.213312029838562]]}\n"
          ]
        }
      ]
    }
  ]
}